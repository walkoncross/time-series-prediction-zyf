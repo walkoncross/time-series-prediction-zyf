{
  "metadata": {
    "kernelspec": {
      "display_name": "Python 3",
      "language": "python",
      "name": "python3"
    },
    "language_info": {
      "name": "python",
      "version": "3.6.0",
      "mimetype": "text/x-python",
      "codemirror_mode": {
        "name": "ipython",
        "version": 3
      },
      "pygments_lexer": "ipython3",
      "nbconvert_exporter": "python",
      "file_extension": ".py"
    }
  },
  "nbformat": 4,
  "nbformat_minor": 0,
  "cells": [
    {
      "cell_type": "markdown",
      "metadata": {
        "_cell_guid": "969d6ca2-efa8-ea00-2e8f-9e07655626d8",
        "_active": false,
        "_uuid": "85d06735a1b310cfa859673f4b3105685b62688c"
      },
      "source": "based on \nhttps://github.com/llSourcell/How-to-Predict-Stock-Prices-Easily-Demo\nand\nhttp://machinelearningmastery.com/time-series-prediction-lstm-recurrent-neural-networks-python-keras/\n\nI just want to predict if a stock will rise based on previous information",
      "execution_count": null,
      "outputs": [],
      "execution_state": "idle"
    },
    {
      "cell_type": "code",
      "execution_count": 1,
      "metadata": {
        "_cell_guid": "f366cf34-f601-7e9b-53e5-5b4e2713044f",
        "_active": false,
        "_uuid": "48ef2d146d94cebd2c132707e814485e04eefccc",
        "_execution_state": "idle"
      },
      "outputs": [
        {
          "output_type": "stream",
          "name": "stderr",
          "text": "Using TensorFlow backend.\n"
        },
        {
          "output_type": "stream",
          "name": "stderr",
          "text": "/opt/conda/lib/python3.6/site-packages/sklearn/cross_validation.py:43: DeprecationWarning: This module was deprecated in version 0.18 in favor of the model_selection module into which all the refactored classes and functions are moved. Also note that the interface of the new CV iterators are different from that of this module. This module will be removed in 0.20.\n  \"This module will be removed in 0.20.\", DeprecationWarning)\n"
        }
      ],
      "source": "import numpy as np # linear algebra\nimport pandas as pd # data processing, CSV file I/O (e.g. pd.read_csv)\n\nfrom subprocess import check_output\nfrom keras.layers.core import Dense, Activation, Dropout\nfrom keras.layers.recurrent import LSTM\nfrom keras.models import Sequential\nfrom sklearn.cross_validation import  train_test_split\nimport time #helper libraries\nfrom sklearn.preprocessing import MinMaxScaler\nimport matplotlib.pyplot as plt\nfrom numpy import newaxis",
      "execution_state": "idle"
    },
    {
      "cell_type": "code",
      "execution_count": 2,
      "metadata": {
        "_cell_guid": "e7c1344f-59af-8372-0376-940a72566da6",
        "_active": false,
        "_uuid": "7acfd925f8db79742944bde351d54ed97145ddab",
        "_execution_state": "idle"
      },
      "outputs": [
        {
          "output_type": "execute_result",
          "data": {
            "text/plain": "                       date symbol        open       close         low  \\\n0       2016-01-05 00:00:00   WLTW  123.430000  125.839996  122.309998   \n1       2016-01-06 00:00:00   WLTW  125.239998  119.980003  119.940002   \n2       2016-01-07 00:00:00   WLTW  116.379997  114.949997  114.930000   \n3       2016-01-08 00:00:00   WLTW  115.480003  116.620003  113.500000   \n4       2016-01-11 00:00:00   WLTW  117.010002  114.970001  114.089996   \n5       2016-01-12 00:00:00   WLTW  115.510002  115.550003  114.500000   \n6       2016-01-13 00:00:00   WLTW  116.459999  112.849998  112.589996   \n7       2016-01-14 00:00:00   WLTW  113.510002  114.379997  110.050003   \n8       2016-01-15 00:00:00   WLTW  113.330002  112.529999  111.919998   \n9       2016-01-19 00:00:00   WLTW  113.660004  110.379997  109.870003   \n10      2016-01-20 00:00:00   WLTW  109.059998  109.300003  108.320000   \n11      2016-01-21 00:00:00   WLTW  109.730003  110.000000  108.320000   \n12      2016-01-22 00:00:00   WLTW  111.879997  111.949997  110.190002   \n13      2016-01-25 00:00:00   WLTW  111.320000  110.120003  110.000000   \n14      2016-01-26 00:00:00   WLTW  110.419998  111.000000  107.300003   \n15      2016-01-27 00:00:00   WLTW  110.769997  110.709999  109.019997   \n16      2016-01-28 00:00:00   WLTW  110.900002  112.580002  109.900002   \n17      2016-01-29 00:00:00   WLTW  113.349998  114.470001  111.669998   \n18      2016-02-01 00:00:00   WLTW  114.000000  114.500000  112.900002   \n19      2016-02-02 00:00:00   WLTW  113.250000  110.559998  109.750000   \n20      2016-02-03 00:00:00   WLTW  113.379997  114.050003  109.639999   \n21      2016-02-04 00:00:00   WLTW  114.080002  115.709999  114.080002   \n22      2016-02-05 00:00:00   WLTW  115.120003  114.019997  109.709999   \n23      2016-02-08 00:00:00   WLTW  113.300003  111.160004  110.459999   \n24      2016-02-09 00:00:00   WLTW  111.169998  110.650002  109.639999   \n25      2016-02-10 00:00:00   WLTW  106.730003  107.519997  106.360001   \n26      2016-02-11 00:00:00   WLTW  105.629997  107.129997  104.110001   \n27      2016-02-12 00:00:00   WLTW  108.559998  107.839996  107.070000   \n28      2016-02-16 00:00:00   WLTW  109.110001  110.769997  107.010002   \n29      2016-02-17 00:00:00   WLTW  110.830002  111.239998  107.970001   \n...                     ...    ...         ...         ...         ...   \n851234           2016-12-30    WAT  135.240005  134.389999  133.710007   \n851235           2016-12-30    WBA   83.459999   82.760002   82.419998   \n851236           2016-12-30    WDC   68.550003   67.949997   67.610001   \n851237           2016-12-30    WEC   58.980000   58.650002   58.419998   \n851238           2016-12-30    WFC   54.889999   55.110001   54.790001   \n851239           2016-12-30    WFM   31.059999   30.760000   30.670000   \n851240           2016-12-30    WHR  183.800003  181.770004  180.869995   \n851241           2016-12-30     WM   71.269997   70.910004   70.750000   \n851242           2016-12-30    WMB   30.940001   31.139999   30.889999   \n851243           2016-12-30    WMT   69.120003   69.120003   68.830002   \n851244           2016-12-30    WRK   51.840000   50.770000   50.529999   \n851245           2016-12-30     WU   21.840000   21.719999   21.600000   \n851246           2016-12-30     WY   30.450001   30.090000   29.950001   \n851247           2016-12-30    WYN   76.849998   76.370003   76.180000   \n851248           2016-12-30   WYNN   87.099998   86.510002   85.570000   \n851249           2016-12-30    XEC  136.520004  135.899994  135.309998   \n851250           2016-12-30    XEL   41.000000   40.700001   40.560001   \n851251           2016-12-30     XL   37.360001   37.259998   37.060001   \n851252           2016-12-30   XLNX   61.090000   60.369999   60.020000   \n851253           2016-12-30    XOM   90.029999   90.260002   90.010002   \n851254           2016-12-30   XRAY   58.290001   57.730000   57.540001   \n851255           2016-12-30    XRX    8.720000    8.730000    8.700000   \n851256           2016-12-30    XYL   49.980000   49.520000   49.360001   \n851257           2016-12-30   YHOO   38.720001   38.669998   38.430000   \n851258           2016-12-30    YUM   63.930000   63.330002   63.160000   \n851259           2016-12-30    ZBH  103.309998  103.199997  102.849998   \n851260           2016-12-30   ZION   43.070000   43.040001   42.689999   \n851261           2016-12-30    ZTS   53.639999   53.529999   53.270000   \n851262  2016-12-30 00:00:00    AIV   44.730000   45.450001   44.410000   \n851263  2016-12-30 00:00:00    FTV   54.200001   53.630001   53.389999   \n\n              high      volume  \n0       126.250000   2163600.0  \n1       125.540001   2386400.0  \n2       119.739998   2489500.0  \n3       117.440002   2006300.0  \n4       117.330002   1408600.0  \n5       116.059998   1098000.0  \n6       117.070000    949600.0  \n7       115.029999    785300.0  \n8       114.879997   1093700.0  \n9       115.870003   1523500.0  \n10      111.599998   1653900.0  \n11      110.580002    944300.0  \n12      112.949997    744900.0  \n13      114.629997    703800.0  \n14      111.400002    563100.0  \n15      112.570000    896100.0  \n16      112.970001    680400.0  \n17      114.589996    749900.0  \n18      114.849998    574200.0  \n19      113.860001    694800.0  \n20      114.639999    896300.0  \n21      116.320000    956300.0  \n22      116.489998    997100.0  \n23      113.300003   1200500.0  \n24      112.110001   1725200.0  \n25      112.110001   1946000.0  \n26      109.260002   1319500.0  \n27      109.430000    922400.0  \n28      111.300003   1185100.0  \n29      112.110001    921500.0  \n...            ...         ...  \n851234  135.300003    464200.0  \n851235   83.620003   3343200.0  \n851236   69.400002   2824100.0  \n851237   59.119999   1221800.0  \n851238   55.360001  15095500.0  \n851239   31.299999   2707500.0  \n851240  184.289993    458200.0  \n851241   71.500000   1230600.0  \n851242   31.650000   3980300.0  \n851243   69.430000   6872000.0  \n851244   51.840000    811200.0  \n851245   21.900000   2538900.0  \n851246   30.450001   2825300.0  \n851247   76.970001    524600.0  \n851248   87.449997   1888500.0  \n851249  137.559998    466100.0  \n851250   41.070000   1887600.0  \n851251   37.419998    959200.0  \n851252   61.480000   2111700.0  \n851253   90.699997   9117800.0  \n851254   58.360001    949200.0  \n851255    8.800000  11250400.0  \n851256   50.000000    646200.0  \n851257   39.000000   6431600.0  \n851258   63.939999   1887100.0  \n851259  103.930000    973800.0  \n851260   43.310001   1938100.0  \n851261   53.740002   1701200.0  \n851262   45.590000   1380900.0  \n851263   54.480000    705100.0  \n\n[851264 rows x 7 columns]",
            "text/html": "<div>\n<table border=\"1\" class=\"dataframe\">\n  <thead>\n    <tr style=\"text-align: right;\">\n      <th></th>\n      <th>date</th>\n      <th>symbol</th>\n      <th>open</th>\n      <th>close</th>\n      <th>low</th>\n      <th>high</th>\n      <th>volume</th>\n    </tr>\n  </thead>\n  <tbody>\n    <tr>\n      <th>0</th>\n      <td>2016-01-05 00:00:00</td>\n      <td>WLTW</td>\n      <td>123.430000</td>\n      <td>125.839996</td>\n      <td>122.309998</td>\n      <td>126.250000</td>\n      <td>2163600.0</td>\n    </tr>\n    <tr>\n      <th>1</th>\n      <td>2016-01-06 00:00:00</td>\n      <td>WLTW</td>\n      <td>125.239998</td>\n      <td>119.980003</td>\n      <td>119.940002</td>\n      <td>125.540001</td>\n      <td>2386400.0</td>\n    </tr>\n    <tr>\n      <th>2</th>\n      <td>2016-01-07 00:00:00</td>\n      <td>WLTW</td>\n      <td>116.379997</td>\n      <td>114.949997</td>\n      <td>114.930000</td>\n      <td>119.739998</td>\n      <td>2489500.0</td>\n    </tr>\n    <tr>\n      <th>3</th>\n      <td>2016-01-08 00:00:00</td>\n      <td>WLTW</td>\n      <td>115.480003</td>\n      <td>116.620003</td>\n      <td>113.500000</td>\n      <td>117.440002</td>\n      <td>2006300.0</td>\n    </tr>\n    <tr>\n      <th>4</th>\n      <td>2016-01-11 00:00:00</td>\n      <td>WLTW</td>\n      <td>117.010002</td>\n      <td>114.970001</td>\n      <td>114.089996</td>\n      <td>117.330002</td>\n      <td>1408600.0</td>\n    </tr>\n    <tr>\n      <th>5</th>\n      <td>2016-01-12 00:00:00</td>\n      <td>WLTW</td>\n      <td>115.510002</td>\n      <td>115.550003</td>\n      <td>114.500000</td>\n      <td>116.059998</td>\n      <td>1098000.0</td>\n    </tr>\n    <tr>\n      <th>6</th>\n      <td>2016-01-13 00:00:00</td>\n      <td>WLTW</td>\n      <td>116.459999</td>\n      <td>112.849998</td>\n      <td>112.589996</td>\n      <td>117.070000</td>\n      <td>949600.0</td>\n    </tr>\n    <tr>\n      <th>7</th>\n      <td>2016-01-14 00:00:00</td>\n      <td>WLTW</td>\n      <td>113.510002</td>\n      <td>114.379997</td>\n      <td>110.050003</td>\n      <td>115.029999</td>\n      <td>785300.0</td>\n    </tr>\n    <tr>\n      <th>8</th>\n      <td>2016-01-15 00:00:00</td>\n      <td>WLTW</td>\n      <td>113.330002</td>\n      <td>112.529999</td>\n      <td>111.919998</td>\n      <td>114.879997</td>\n      <td>1093700.0</td>\n    </tr>\n    <tr>\n      <th>9</th>\n      <td>2016-01-19 00:00:00</td>\n      <td>WLTW</td>\n      <td>113.660004</td>\n      <td>110.379997</td>\n      <td>109.870003</td>\n      <td>115.870003</td>\n      <td>1523500.0</td>\n    </tr>\n    <tr>\n      <th>10</th>\n      <td>2016-01-20 00:00:00</td>\n      <td>WLTW</td>\n      <td>109.059998</td>\n      <td>109.300003</td>\n      <td>108.320000</td>\n      <td>111.599998</td>\n      <td>1653900.0</td>\n    </tr>\n    <tr>\n      <th>11</th>\n      <td>2016-01-21 00:00:00</td>\n      <td>WLTW</td>\n      <td>109.730003</td>\n      <td>110.000000</td>\n      <td>108.320000</td>\n      <td>110.580002</td>\n      <td>944300.0</td>\n    </tr>\n    <tr>\n      <th>12</th>\n      <td>2016-01-22 00:00:00</td>\n      <td>WLTW</td>\n      <td>111.879997</td>\n      <td>111.949997</td>\n      <td>110.190002</td>\n      <td>112.949997</td>\n      <td>744900.0</td>\n    </tr>\n    <tr>\n      <th>13</th>\n      <td>2016-01-25 00:00:00</td>\n      <td>WLTW</td>\n      <td>111.320000</td>\n      <td>110.120003</td>\n      <td>110.000000</td>\n      <td>114.629997</td>\n      <td>703800.0</td>\n    </tr>\n    <tr>\n      <th>14</th>\n      <td>2016-01-26 00:00:00</td>\n      <td>WLTW</td>\n      <td>110.419998</td>\n      <td>111.000000</td>\n      <td>107.300003</td>\n      <td>111.400002</td>\n      <td>563100.0</td>\n    </tr>\n    <tr>\n      <th>15</th>\n      <td>2016-01-27 00:00:00</td>\n      <td>WLTW</td>\n      <td>110.769997</td>\n      <td>110.709999</td>\n      <td>109.019997</td>\n      <td>112.570000</td>\n      <td>896100.0</td>\n    </tr>\n    <tr>\n      <th>16</th>\n      <td>2016-01-28 00:00:00</td>\n      <td>WLTW</td>\n      <td>110.900002</td>\n      <td>112.580002</td>\n      <td>109.900002</td>\n      <td>112.970001</td>\n      <td>680400.0</td>\n    </tr>\n    <tr>\n      <th>17</th>\n      <td>2016-01-29 00:00:00</td>\n      <td>WLTW</td>\n      <td>113.349998</td>\n      <td>114.470001</td>\n      <td>111.669998</td>\n      <td>114.589996</td>\n      <td>749900.0</td>\n    </tr>\n    <tr>\n      <th>18</th>\n      <td>2016-02-01 00:00:00</td>\n      <td>WLTW</td>\n      <td>114.000000</td>\n      <td>114.500000</td>\n      <td>112.900002</td>\n      <td>114.849998</td>\n      <td>574200.0</td>\n    </tr>\n    <tr>\n      <th>19</th>\n      <td>2016-02-02 00:00:00</td>\n      <td>WLTW</td>\n      <td>113.250000</td>\n      <td>110.559998</td>\n      <td>109.750000</td>\n      <td>113.860001</td>\n      <td>694800.0</td>\n    </tr>\n    <tr>\n      <th>20</th>\n      <td>2016-02-03 00:00:00</td>\n      <td>WLTW</td>\n      <td>113.379997</td>\n      <td>114.050003</td>\n      <td>109.639999</td>\n      <td>114.639999</td>\n      <td>896300.0</td>\n    </tr>\n    <tr>\n      <th>21</th>\n      <td>2016-02-04 00:00:00</td>\n      <td>WLTW</td>\n      <td>114.080002</td>\n      <td>115.709999</td>\n      <td>114.080002</td>\n      <td>116.320000</td>\n      <td>956300.0</td>\n    </tr>\n    <tr>\n      <th>22</th>\n      <td>2016-02-05 00:00:00</td>\n      <td>WLTW</td>\n      <td>115.120003</td>\n      <td>114.019997</td>\n      <td>109.709999</td>\n      <td>116.489998</td>\n      <td>997100.0</td>\n    </tr>\n    <tr>\n      <th>23</th>\n      <td>2016-02-08 00:00:00</td>\n      <td>WLTW</td>\n      <td>113.300003</td>\n      <td>111.160004</td>\n      <td>110.459999</td>\n      <td>113.300003</td>\n      <td>1200500.0</td>\n    </tr>\n    <tr>\n      <th>24</th>\n      <td>2016-02-09 00:00:00</td>\n      <td>WLTW</td>\n      <td>111.169998</td>\n      <td>110.650002</td>\n      <td>109.639999</td>\n      <td>112.110001</td>\n      <td>1725200.0</td>\n    </tr>\n    <tr>\n      <th>25</th>\n      <td>2016-02-10 00:00:00</td>\n      <td>WLTW</td>\n      <td>106.730003</td>\n      <td>107.519997</td>\n      <td>106.360001</td>\n      <td>112.110001</td>\n      <td>1946000.0</td>\n    </tr>\n    <tr>\n      <th>26</th>\n      <td>2016-02-11 00:00:00</td>\n      <td>WLTW</td>\n      <td>105.629997</td>\n      <td>107.129997</td>\n      <td>104.110001</td>\n      <td>109.260002</td>\n      <td>1319500.0</td>\n    </tr>\n    <tr>\n      <th>27</th>\n      <td>2016-02-12 00:00:00</td>\n      <td>WLTW</td>\n      <td>108.559998</td>\n      <td>107.839996</td>\n      <td>107.070000</td>\n      <td>109.430000</td>\n      <td>922400.0</td>\n    </tr>\n    <tr>\n      <th>28</th>\n      <td>2016-02-16 00:00:00</td>\n      <td>WLTW</td>\n      <td>109.110001</td>\n      <td>110.769997</td>\n      <td>107.010002</td>\n      <td>111.300003</td>\n      <td>1185100.0</td>\n    </tr>\n    <tr>\n      <th>29</th>\n      <td>2016-02-17 00:00:00</td>\n      <td>WLTW</td>\n      <td>110.830002</td>\n      <td>111.239998</td>\n      <td>107.970001</td>\n      <td>112.110001</td>\n      <td>921500.0</td>\n    </tr>\n    <tr>\n      <th>...</th>\n      <td>...</td>\n      <td>...</td>\n      <td>...</td>\n      <td>...</td>\n      <td>...</td>\n      <td>...</td>\n      <td>...</td>\n    </tr>\n    <tr>\n      <th>851234</th>\n      <td>2016-12-30</td>\n      <td>WAT</td>\n      <td>135.240005</td>\n      <td>134.389999</td>\n      <td>133.710007</td>\n      <td>135.300003</td>\n      <td>464200.0</td>\n    </tr>\n    <tr>\n      <th>851235</th>\n      <td>2016-12-30</td>\n      <td>WBA</td>\n      <td>83.459999</td>\n      <td>82.760002</td>\n      <td>82.419998</td>\n      <td>83.620003</td>\n      <td>3343200.0</td>\n    </tr>\n    <tr>\n      <th>851236</th>\n      <td>2016-12-30</td>\n      <td>WDC</td>\n      <td>68.550003</td>\n      <td>67.949997</td>\n      <td>67.610001</td>\n      <td>69.400002</td>\n      <td>2824100.0</td>\n    </tr>\n    <tr>\n      <th>851237</th>\n      <td>2016-12-30</td>\n      <td>WEC</td>\n      <td>58.980000</td>\n      <td>58.650002</td>\n      <td>58.419998</td>\n      <td>59.119999</td>\n      <td>1221800.0</td>\n    </tr>\n    <tr>\n      <th>851238</th>\n      <td>2016-12-30</td>\n      <td>WFC</td>\n      <td>54.889999</td>\n      <td>55.110001</td>\n      <td>54.790001</td>\n      <td>55.360001</td>\n      <td>15095500.0</td>\n    </tr>\n    <tr>\n      <th>851239</th>\n      <td>2016-12-30</td>\n      <td>WFM</td>\n      <td>31.059999</td>\n      <td>30.760000</td>\n      <td>30.670000</td>\n      <td>31.299999</td>\n      <td>2707500.0</td>\n    </tr>\n    <tr>\n      <th>851240</th>\n      <td>2016-12-30</td>\n      <td>WHR</td>\n      <td>183.800003</td>\n      <td>181.770004</td>\n      <td>180.869995</td>\n      <td>184.289993</td>\n      <td>458200.0</td>\n    </tr>\n    <tr>\n      <th>851241</th>\n      <td>2016-12-30</td>\n      <td>WM</td>\n      <td>71.269997</td>\n      <td>70.910004</td>\n      <td>70.750000</td>\n      <td>71.500000</td>\n      <td>1230600.0</td>\n    </tr>\n    <tr>\n      <th>851242</th>\n      <td>2016-12-30</td>\n      <td>WMB</td>\n      <td>30.940001</td>\n      <td>31.139999</td>\n      <td>30.889999</td>\n      <td>31.650000</td>\n      <td>3980300.0</td>\n    </tr>\n    <tr>\n      <th>851243</th>\n      <td>2016-12-30</td>\n      <td>WMT</td>\n      <td>69.120003</td>\n      <td>69.120003</td>\n      <td>68.830002</td>\n      <td>69.430000</td>\n      <td>6872000.0</td>\n    </tr>\n    <tr>\n      <th>851244</th>\n      <td>2016-12-30</td>\n      <td>WRK</td>\n      <td>51.840000</td>\n      <td>50.770000</td>\n      <td>50.529999</td>\n      <td>51.840000</td>\n      <td>811200.0</td>\n    </tr>\n    <tr>\n      <th>851245</th>\n      <td>2016-12-30</td>\n      <td>WU</td>\n      <td>21.840000</td>\n      <td>21.719999</td>\n      <td>21.600000</td>\n      <td>21.900000</td>\n      <td>2538900.0</td>\n    </tr>\n    <tr>\n      <th>851246</th>\n      <td>2016-12-30</td>\n      <td>WY</td>\n      <td>30.450001</td>\n      <td>30.090000</td>\n      <td>29.950001</td>\n      <td>30.450001</td>\n      <td>2825300.0</td>\n    </tr>\n    <tr>\n      <th>851247</th>\n      <td>2016-12-30</td>\n      <td>WYN</td>\n      <td>76.849998</td>\n      <td>76.370003</td>\n      <td>76.180000</td>\n      <td>76.970001</td>\n      <td>524600.0</td>\n    </tr>\n    <tr>\n      <th>851248</th>\n      <td>2016-12-30</td>\n      <td>WYNN</td>\n      <td>87.099998</td>\n      <td>86.510002</td>\n      <td>85.570000</td>\n      <td>87.449997</td>\n      <td>1888500.0</td>\n    </tr>\n    <tr>\n      <th>851249</th>\n      <td>2016-12-30</td>\n      <td>XEC</td>\n      <td>136.520004</td>\n      <td>135.899994</td>\n      <td>135.309998</td>\n      <td>137.559998</td>\n      <td>466100.0</td>\n    </tr>\n    <tr>\n      <th>851250</th>\n      <td>2016-12-30</td>\n      <td>XEL</td>\n      <td>41.000000</td>\n      <td>40.700001</td>\n      <td>40.560001</td>\n      <td>41.070000</td>\n      <td>1887600.0</td>\n    </tr>\n    <tr>\n      <th>851251</th>\n      <td>2016-12-30</td>\n      <td>XL</td>\n      <td>37.360001</td>\n      <td>37.259998</td>\n      <td>37.060001</td>\n      <td>37.419998</td>\n      <td>959200.0</td>\n    </tr>\n    <tr>\n      <th>851252</th>\n      <td>2016-12-30</td>\n      <td>XLNX</td>\n      <td>61.090000</td>\n      <td>60.369999</td>\n      <td>60.020000</td>\n      <td>61.480000</td>\n      <td>2111700.0</td>\n    </tr>\n    <tr>\n      <th>851253</th>\n      <td>2016-12-30</td>\n      <td>XOM</td>\n      <td>90.029999</td>\n      <td>90.260002</td>\n      <td>90.010002</td>\n      <td>90.699997</td>\n      <td>9117800.0</td>\n    </tr>\n    <tr>\n      <th>851254</th>\n      <td>2016-12-30</td>\n      <td>XRAY</td>\n      <td>58.290001</td>\n      <td>57.730000</td>\n      <td>57.540001</td>\n      <td>58.360001</td>\n      <td>949200.0</td>\n    </tr>\n    <tr>\n      <th>851255</th>\n      <td>2016-12-30</td>\n      <td>XRX</td>\n      <td>8.720000</td>\n      <td>8.730000</td>\n      <td>8.700000</td>\n      <td>8.800000</td>\n      <td>11250400.0</td>\n    </tr>\n    <tr>\n      <th>851256</th>\n      <td>2016-12-30</td>\n      <td>XYL</td>\n      <td>49.980000</td>\n      <td>49.520000</td>\n      <td>49.360001</td>\n      <td>50.000000</td>\n      <td>646200.0</td>\n    </tr>\n    <tr>\n      <th>851257</th>\n      <td>2016-12-30</td>\n      <td>YHOO</td>\n      <td>38.720001</td>\n      <td>38.669998</td>\n      <td>38.430000</td>\n      <td>39.000000</td>\n      <td>6431600.0</td>\n    </tr>\n    <tr>\n      <th>851258</th>\n      <td>2016-12-30</td>\n      <td>YUM</td>\n      <td>63.930000</td>\n      <td>63.330002</td>\n      <td>63.160000</td>\n      <td>63.939999</td>\n      <td>1887100.0</td>\n    </tr>\n    <tr>\n      <th>851259</th>\n      <td>2016-12-30</td>\n      <td>ZBH</td>\n      <td>103.309998</td>\n      <td>103.199997</td>\n      <td>102.849998</td>\n      <td>103.930000</td>\n      <td>973800.0</td>\n    </tr>\n    <tr>\n      <th>851260</th>\n      <td>2016-12-30</td>\n      <td>ZION</td>\n      <td>43.070000</td>\n      <td>43.040001</td>\n      <td>42.689999</td>\n      <td>43.310001</td>\n      <td>1938100.0</td>\n    </tr>\n    <tr>\n      <th>851261</th>\n      <td>2016-12-30</td>\n      <td>ZTS</td>\n      <td>53.639999</td>\n      <td>53.529999</td>\n      <td>53.270000</td>\n      <td>53.740002</td>\n      <td>1701200.0</td>\n    </tr>\n    <tr>\n      <th>851262</th>\n      <td>2016-12-30 00:00:00</td>\n      <td>AIV</td>\n      <td>44.730000</td>\n      <td>45.450001</td>\n      <td>44.410000</td>\n      <td>45.590000</td>\n      <td>1380900.0</td>\n    </tr>\n    <tr>\n      <th>851263</th>\n      <td>2016-12-30 00:00:00</td>\n      <td>FTV</td>\n      <td>54.200001</td>\n      <td>53.630001</td>\n      <td>53.389999</td>\n      <td>54.480000</td>\n      <td>705100.0</td>\n    </tr>\n  </tbody>\n</table>\n<p>851264 rows × 7 columns</p>\n</div>"
          },
          "metadata": {},
          "execution_count": 2
        }
      ],
      "source": "prices_dataset =  pd.read_csv('../input/prices.csv', header=0)\nprices_dataset",
      "execution_state": "idle"
    },
    {
      "cell_type": "code",
      "execution_count": 3,
      "metadata": {
        "_cell_guid": "afbaa2e6-6f36-7726-bff0-399b365382fb",
        "_active": false,
        "_uuid": "b248f021ff8f896d41dd1711da4d94491684ba62",
        "_execution_state": "idle"
      },
      "outputs": [
        {
          "output_type": "execute_result",
          "data": {
            "text/plain": "(251, 7)"
          },
          "metadata": {},
          "execution_count": 3
        }
      ],
      "source": "wltw = prices_dataset[prices_dataset['symbol']=='WLTW']\nwltw.shape",
      "execution_state": "idle"
    },
    {
      "cell_type": "code",
      "execution_count": 4,
      "metadata": {
        "_cell_guid": "a7fe4936-c44b-1788-a16b-35b5b1eb675c",
        "_active": false,
        "_uuid": "9927e1451e8f24956aa24a1b13c6827378cb447c",
        "_execution_state": "idle"
      },
      "outputs": [
        {
          "output_type": "display_data",
          "data": {
            "text/plain": "<matplotlib.figure.Figure at 0x7fe551c5acf8>",
            "image/png": "[encoded data removed]"
          },
          "metadata": {}
        }
      ],
      "source": "wltw_stock_prices = wltw.close.values.astype('float32')\n\nplt.plot(wltw_stock_prices)\nplt.show()\n\nwltw_stock_prices=wltw_stock_prices.reshape(-1, 1)\nscaler = MinMaxScaler(feature_range=(0, 1))\nwltw_stock_prices = scaler.fit_transform(wltw_stock_prices)",
      "execution_state": "idle"
    },
    {
      "cell_type": "code",
      "execution_count": 5,
      "metadata": {
        "_cell_guid": "2f69042b-d335-b8ff-ec17-980189526e7d",
        "_active": false,
        "_uuid": "f03c49a20fb6183ec0d8222f148eba4b424a4c83",
        "_execution_state": "idle"
      },
      "outputs": [
        {
          "output_type": "stream",
          "name": "stdout",
          "text": "168 83\n"
        }
      ],
      "source": "train_size = int(len(wltw_stock_prices) * 0.67)\ntest_size = len(wltw_stock_prices) - train_size\ntrain, test = wltw_stock_prices[0:train_size,:], wltw_stock_prices[train_size:len(wltw_stock_prices),:]\nprint(len(train), len(test))",
      "execution_state": "idle"
    },
    {
      "cell_type": "code",
      "execution_count": 6,
      "metadata": {
        "_cell_guid": "f9d24454-e0a4-a6e5-f04f-1b46b810158c",
        "_active": false,
        "_uuid": "8e98c386b3760156dc5f5ecc57885ce71a7ba175",
        "_execution_state": "idle"
      },
      "outputs": [],
      "source": "# convert an array of values into a dataset matrix\ndef create_dataset(dataset, look_back=1):\n\tdataX, dataY = [], []\n\tfor i in range(len(dataset)-look_back-1):\n\t\ta = dataset[i:(i+look_back), 0]\n\t\tdataX.append(a)\n\t\tdataY.append(dataset[i + look_back, 0])\n\treturn np.array(dataX), np.array(dataY)",
      "execution_state": "idle"
    },
    {
      "cell_type": "code",
      "execution_count": 8,
      "metadata": {
        "_cell_guid": "17f5bc9d-47ad-2206-71cd-e85ecac42175",
        "_active": false,
        "_uuid": "5a7c0081f9e6318fafce922519f602254d75014d",
        "_execution_state": "idle"
      },
      "outputs": [],
      "source": "# reshape into X=t and Y=t+1\nlook_back = 1\ntrainX, trainY = create_dataset(train, look_back)\ntestX, testY = create_dataset(test, look_back)",
      "execution_state": "idle"
    },
    {
      "cell_type": "code",
      "execution_count": 9,
      "metadata": {
        "_cell_guid": "a74ff89f-d274-de8c-f11c-bf2ffaf29eed",
        "_active": false,
        "_uuid": "911692db4e27e9989c711747a20c878b91369280",
        "_execution_state": "idle"
      },
      "outputs": [],
      "source": "trainX = np.reshape(trainX, (trainX.shape[0], 1, trainX.shape[1]))\ntestX = np.reshape(testX, (testX.shape[0], 1, testX.shape[1]))",
      "execution_state": "idle"
    },
    {
      "cell_type": "code",
      "execution_count": 10,
      "metadata": {
        "_cell_guid": "6e379f90-c703-6712-12ed-9aa0942a5408",
        "_active": false,
        "_uuid": "c53f77861ea36b6250fcfd3718747a44ac74b3f2",
        "_execution_state": "idle"
      },
      "outputs": [
        {
          "output_type": "stream",
          "name": "stderr",
          "text": "/opt/conda/lib/python3.6/site-packages/ipykernel/__main__.py:7: UserWarning: The `input_dim` and `input_length` arguments in recurrent layers are deprecated. Use `input_shape` instead.\n/opt/conda/lib/python3.6/site-packages/ipykernel/__main__.py:7: UserWarning: Update your `LSTM` call to the Keras 2 API: `LSTM(return_sequences=True, input_shape=(None, 1), units=50)`\n"
        },
        {
          "output_type": "stream",
          "name": "stdout",
          "text": "compilation time :  0.019057035446166992\n"
        },
        {
          "output_type": "stream",
          "name": "stderr",
          "text": "/opt/conda/lib/python3.6/site-packages/ipykernel/__main__.py:16: UserWarning: Update your `Dense` call to the Keras 2 API: `Dense(units=1)`\n"
        }
      ],
      "source": "#Step 2 Build Model\nmodel = Sequential()\n\nmodel.add(LSTM(\n    input_dim=1,\n    output_dim=50,\n    return_sequences=True))\nmodel.add(Dropout(0.2))\n\nmodel.add(LSTM(\n    100,\n    return_sequences=False))\nmodel.add(Dropout(0.2))\n\nmodel.add(Dense(\n    output_dim=1))\nmodel.add(Activation('linear'))\n\nstart = time.time()\nmodel.compile(loss='mse', optimizer='rmsprop')\nprint ('compilation time : ', time.time() - start)",
      "execution_state": "idle"
    },
    {
      "cell_type": "code",
      "execution_count": 11,
      "metadata": {
        "_cell_guid": "e668a235-00fe-4fe3-925b-99051ae376f9",
        "_active": true,
        "collapsed": false,
        "_uuid": "98d38325ed7b3fd9437c5645d4da896b10324706",
        "_execution_state": "idle"
      },
      "outputs": [
        {
          "output_type": "stream",
          "name": "stderr",
          "text": "/opt/conda/lib/python3.6/site-packages/Keras-2.0.4-py3.6.egg/keras/models.py:847: UserWarning: The `nb_epoch` argument in `fit` has been renamed `epochs`.\n  warnings.warn('The `nb_epoch` argument in `fit` '\n"
        },
        {
          "output_type": "stream",
          "name": "stdout",
          "text": "Train on 149 samples, validate on 17 samples\nEpoch 1/10\n"
        },
        {
          "output_type": "stream",
          "name": "stdout",
          "text": "\r128/149 [========================>.....] - ETA: 0s - loss: 0.3143"
        },
        {
          "output_type": "stream",
          "name": "stdout",
          "text": "\b\b\b\b\b\b\b\b\b\b\b\b\b\b\b\b\b\b\b\b\b\b\b\b\b\b\b\b\b\b\b\b\b\b\b\b\b\b\b\b\b\b\b\b\b\b\b\b\b\b\b\b\b\b\b\b\b\b\b\b\b\b\b\b\b\r149/149 [==============================] - 0s - loss: 0.3056 - val_loss: 0.3183"
        },
        {
          "output_type": "stream",
          "name": "stdout",
          "text": "\nEpoch 2/10\n\r128/149 [========================>.....] - ETA: 0s - loss: 0.2737"
        },
        {
          "output_type": "stream",
          "name": "stdout",
          "text": "\b\b\b\b\b\b\b\b\b\b\b\b\b\b\b\b\b\b\b\b\b\b\b\b\b\b\b\b\b\b\b\b\b\b\b\b\b\b\b\b\b\b\b\b\b\b\b\b\b\b\b\b\b\b\b\b\b\b\b\b\b\b\b\b\b\r149/149 [==============================] - 0s - loss: 0.2691 - val_loss: 0.2863"
        },
        {
          "output_type": "stream",
          "name": "stdout",
          "text": "\nEpoch 3/10\n\r128/149 [========================>.....] - ETA: 0s - loss: 0.2359"
        },
        {
          "output_type": "stream",
          "name": "stdout",
          "text": "\b\b\b\b\b\b\b\b\b\b\b\b\b\b\b\b\b\b\b\b\b\b\b\b\b\b\b\b\b\b\b\b\b\b\b\b\b\b\b\b\b\b\b\b\b\b\b\b\b\b\b\b\b\b\b\b\b\b\b\b\b\b\b\b\b\r149/149 [==============================] - 0s - loss: 0.2419 - val_loss: 0.2553"
        },
        {
          "output_type": "stream",
          "name": "stdout",
          "text": "\nEpoch 4/10\n\r128/149 [========================>.....] - ETA: 0s - loss: 0.2129"
        },
        {
          "output_type": "stream",
          "name": "stdout",
          "text": "\b\b\b\b\b\b\b\b\b\b\b\b\b\b\b\b\b\b\b\b\b\b\b\b\b\b\b\b\b\b\b\b\b\b\b\b\b\b\b\b\b\b\b\b\b\b\b\b\b\b\b\b\b\b\b\b\b\b\b\b\b\b\b\b\b\r149/149 [==============================] - 0s - loss: 0.2165 - val_loss: 0.2268"
        },
        {
          "output_type": "stream",
          "name": "stdout",
          "text": "\nEpoch 5/10\n\r128/149 [========================>.....] - ETA: 0s - loss: 0.1844"
        },
        {
          "output_type": "stream",
          "name": "stdout",
          "text": "\b\b\b\b\b\b\b\b\b\b\b\b\b\b\b\b\b\b\b\b\b\b\b\b\b\b\b\b\b\b\b\b\b\b\b\b\b\b\b\b\b\b\b\b\b\b\b\b\b\b\b\b\b\b\b\b\b\b\b\b\b\b\b\b\b\r149/149 [==============================] - 0s - loss: 0.1910 - val_loss: 0.1985"
        },
        {
          "output_type": "stream",
          "name": "stdout",
          "text": "\nEpoch 6/10\n\r128/149 [========================>.....] - ETA: 0s - loss: 0.1661"
        },
        {
          "output_type": "stream",
          "name": "stdout",
          "text": "\b\b\b\b\b\b\b\b\b\b\b\b\b\b\b\b\b\b\b\b\b\b\b\b\b\b\b\b\b\b\b\b\b\b\b\b\b\b\b\b\b\b\b\b\b\b\b\b\b\b\b\b\b\b\b\b\b\b\b\b\b\b\b\b\b\r149/149 [==============================] - 0s - loss: 0.1688 - val_loss: 0.1727"
        },
        {
          "output_type": "stream",
          "name": "stdout",
          "text": "\nEpoch 7/10\n"
        },
        {
          "output_type": "stream",
          "name": "stdout",
          "text": "\r128/149 [========================>.....] - ETA: 0s - loss: 0.1474"
        },
        {
          "output_type": "stream",
          "name": "stdout",
          "text": "\b\b\b\b\b\b\b\b\b\b\b\b\b\b\b\b\b\b\b\b\b\b\b\b\b\b\b\b\b\b\b\b\b\b\b\b\b\b\b\b\b\b\b\b\b\b\b\b\b\b\b\b\b\b\b\b\b\b\b\b\b\b\b\b\b\r149/149 [==============================] - 0s - loss: 0.1476 - val_loss: 0.1489"
        },
        {
          "output_type": "stream",
          "name": "stdout",
          "text": "\nEpoch 8/10\n\r128/149 [========================>.....] - ETA: 0s - loss: 0.1286"
        },
        {
          "output_type": "stream",
          "name": "stdout",
          "text": "\b\b\b\b\b\b\b\b\b\b\b\b\b\b\b\b\b\b\b\b\b\b\b\b\b\b\b\b\b\b\b\b\b\b\b\b\b\b\b\b\b\b\b\b\b\b\b\b\b\b\b\b\b\b\b\b\b\b\b\b\b\b\b\b\b\r149/149 [==============================] - 0s - loss: 0.1298 - val_loss: 0.1256"
        },
        {
          "output_type": "stream",
          "name": "stdout",
          "text": "\nEpoch 9/10\n\r128/149 [========================>.....] - ETA: 0s - loss: 0.1184"
        },
        {
          "output_type": "stream",
          "name": "stdout",
          "text": "\b\b\b\b\b\b\b\b\b\b\b\b\b\b\b\b\b\b\b\b\b\b\b\b\b\b\b\b\b\b\b\b\b\b\b\b\b\b\b\b\b\b\b\b\b\b\b\b\b\b\b\b\b\b\b\b\b\b\b\b\b\b\b\b\b\r149/149 [==============================] - 0s - loss: 0.1111 - val_loss: 0.1077"
        },
        {
          "output_type": "stream",
          "name": "stdout",
          "text": "\nEpoch 10/10\n\r128/149 [========================>.....] - ETA: 0s - loss: 0.0990"
        },
        {
          "output_type": "stream",
          "name": "stdout",
          "text": "\b\b\b\b\b\b\b\b\b\b\b\b\b\b\b\b\b\b\b\b\b\b\b\b\b\b\b\b\b\b\b\b\b\b\b\b\b\b\b\b\b\b\b\b\b\b\b\b\b\b\b\b\b\b\b\b\b\b\b\b\b\b\b\b\b\r149/149 [==============================] - 0s - loss: 0.0949 - val_loss: 0.0886"
        },
        {
          "output_type": "stream",
          "name": "stdout",
          "text": "\n"
        },
        {
          "output_type": "execute_result",
          "data": {
            "text/plain": "<keras.callbacks.History at 0x7fe5441c4ef0>"
          },
          "metadata": {},
          "execution_count": 11
        }
      ],
      "source": "model.fit(\n    trainX,\n    trainY,\n    batch_size=128,\n    nb_epoch=10,\n    validation_split=0.10)",
      "execution_state": "idle"
    },
    {
      "cell_type": "markdown",
      "metadata": {
        "_cell_guid": "47e1110a-81cc-20f8-4157-39b83e000cd7",
        "_active": false,
        "_uuid": "c48153cd25133eb9859fca784f6a844d16c19439"
      },
      "source": "## work in progress",
      "execution_count": null,
      "outputs": [],
      "execution_state": "idle"
    },
    {
      "cell_type": "code",
      "execution_count": 12,
      "metadata": {
        "_cell_guid": "7fbffc92-2c8b-e384-77a1-f042762c0593",
        "_active": false,
        "_uuid": "0e1b3166a70c44c366ce441db9aba609cde5b585",
        "_execution_state": "idle"
      },
      "outputs": [
        {
          "output_type": "display_data",
          "data": {
            "text/plain": "<matplotlib.figure.Figure at 0x7fe544167ef0>",
            "image/png": "[encoded data removed]"
          },
          "metadata": {}
        }
      ],
      "source": "def plot_results_multiple(predicted_data, true_data):\n    plt.plot(true_data)\n    plt.plot(predicted_data)\n    plt.show()\n    \n#predict lenght consecutive values from a real one\ndef predict_sequences_multiple(model, firstValue,length):\n    prediction_seqs = []\n    curr_frame = firstValue\n   \n    for i in range(length): \n        predicted = []        \n        predicted.append(model.predict(curr_frame[newaxis,:,:])[0,0])\n        \n        curr_frame = curr_frame[0:]\n        curr_frame = np.insert(curr_frame[0:], i+1, predicted[-1], axis=0)\n        \n        prediction_seqs.append(predicted[-1])\n        \n    return prediction_seqs\n\npredictions = predict_sequences_multiple(model, testX[0], len(testX))\n\nplot_results_multiple(predictions, testY)",
      "execution_state": "idle"
    },
    {
      "cell_type": "code",
      "execution_count": null,
      "metadata": {
        "_cell_guid": "44302440-7bbf-e622-6d87-3923dc3e9588",
        "_active": false,
        "_uuid": "e1bf2b314471def9fe28d116ec8f06aabefee3b1"
      },
      "outputs": [],
      "source": null,
      "execution_state": "idle"
    }
  ]
}